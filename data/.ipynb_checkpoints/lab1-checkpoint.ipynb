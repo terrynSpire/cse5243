{
 "cells": [
  {
   "cell_type": "markdown",
   "id": "8c97647e",
   "metadata": {},
   "source": [
    "### Used of chcking the related libs are installed successfully"
   ]
  },
  {
   "cell_type": "code",
   "execution_count": 12,
   "id": "87bdf4be",
   "metadata": {},
   "outputs": [
    {
     "name": "stdout",
     "output_type": "stream",
     "text": [
      "Scikit-Learn version: 1.3.1\n",
      "NumPy version: 1.24.4\n",
      "SciPy version: 1.11.3\n",
      "Pandas version: 2.1.1\n"
     ]
    }
   ],
   "source": [
    "import sklearn\n",
    "import numpy\n",
    "import scipy\n",
    "import pandas\n",
    "\n",
    "print(\"Scikit-Learn version:\", sklearn.__version__)\n",
    "print(\"NumPy version:\", numpy.__version__)\n",
    "print(\"SciPy version:\", scipy.__version__)\n",
    "print(\"Pandas version:\", pandas.__version__)\n"
   ]
  },
  {
   "cell_type": "markdown",
   "id": "e8176f71",
   "metadata": {},
   "source": [
    "### Used for merging three assigned txt files into one CSV file"
   ]
  },
  {
   "cell_type": "code",
   "execution_count": 13,
   "id": "79c5d92c-7e5e-4206-9ee8-c43fb5b1ca88",
   "metadata": {},
   "outputs": [
    {
     "name": "stdout",
     "output_type": "stream",
     "text": [
      "{1: 1386, 0: 1362}\n"
     ]
    }
   ],
   "source": [
    "import pandas as pd\n",
    "\n",
    "def merge_and_count_sentiments(file_list, output_csv):\n",
    "    \"\"\"\n",
    "    Merges text files containing sentiment labelled sentences into a CSV file \n",
    "    and counts the number of positive and negative sentiments.\n",
    "\n",
    "    Parameters:\n",
    "    file_list (list): List of file paths to the text files.\n",
    "    output_csv (str): File path for the output CSV file.\n",
    "\n",
    "    Returns:\n",
    "    dict: A dictionary with counts of positive and negative sentiments.\n",
    "    \"\"\"\n",
    "    # Initialize an empty list to collect DataFrames\n",
    "    frames = []\n",
    "\n",
    "    # Iterate through the list of files and append to the list\n",
    "    for file in file_list:\n",
    "        temp_df = pd.read_csv(file, header=None, names=['sentence', 'score'], sep='\\t')\n",
    "        frames.append(temp_df)\n",
    "\n",
    "    # Concatenate all DataFrames in the list\n",
    "    merged_df = pd.concat(frames, ignore_index=True)\n",
    "\n",
    "    # Write the merged DataFrame to a CSV file\n",
    "    merged_df.to_csv(output_csv, index=False)\n",
    "\n",
    "    # Count the number of positive (1) and negative (0) sentiments\n",
    "    sentiment_counts = merged_df['score'].value_counts().to_dict()\n",
    "    \n",
    "    return sentiment_counts\n",
    "\n",
    "# Example usage:\n",
    "file_list = ['sentiment_labelled_sentences/amazon_cells_labelled.txt', 'sentiment_labelled_sentences/imdb_labelled.txt', 'sentiment_labelled_sentences/yelp_labelled.txt']\n",
    "output_csv = 'merged_sentiment_data.csv'\n",
    "sentiment_counts = merge_and_count_sentiments(file_list, output_csv)\n",
    "\n",
    "print(sentiment_counts)\n"
   ]
  }
 ],
 "metadata": {
  "kernelspec": {
   "display_name": "Python 3 (ipykernel)",
   "language": "python",
   "name": "python3"
  },
  "language_info": {
   "codemirror_mode": {
    "name": "ipython",
    "version": 3
   },
   "file_extension": ".py",
   "mimetype": "text/x-python",
   "name": "python",
   "nbconvert_exporter": "python",
   "pygments_lexer": "ipython3",
   "version": "3.11.6"
  }
 },
 "nbformat": 4,
 "nbformat_minor": 5
}
